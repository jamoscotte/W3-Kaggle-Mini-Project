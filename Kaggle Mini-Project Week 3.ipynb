{
 "cells": [
  {
   "metadata": {},
   "cell_type": "markdown",
   "source": [
    "# Week 3 Kaggle Mini-Project: Histopathologic Cancer Detection\n",
    "\n",
    "### By: Julian Moscotte\n"
   ],
   "id": "54f55f757d6e6fda"
  },
  {
   "metadata": {},
   "cell_type": "markdown",
   "source": [
    "### Introduction\n",
    "\n",
    "In this project, I will be creating an algorithm to identify metastatic cancer in small image patches taken from larger digital pathology scans. The goal for this project is to correctly classify if the middle 32 x 32 pixels contain any tumor tissue. This will require the applications of machine learning techniques, including computer vision and deep learning to interpret the visual data and detect cancerous regions. \n",
    "\n",
    "#### The Data\n",
    "We will be using the PatchCamelyon data set that has been slightly modified to remove duplicates. This dataset has a large number of small pathology images to classify. We are given a training set and a test dataset with ground truth labels.\n",
    "\n",
    "\n"
   ],
   "id": "5d07694b737ad6d6"
  },
  {
   "metadata": {
    "ExecuteTime": {
     "end_time": "2024-08-14T20:48:17.118902Z",
     "start_time": "2024-08-14T20:48:16.805739Z"
    }
   },
   "cell_type": "code",
   "source": [
    "import os\n",
    "import cv2\n",
    "\n",
    "print(len(os.listdir('./data/histopathologic-cancer-detection/train')))\n",
    "print(len(os.listdir('./data/histopathologic-cancer-detection/test')))\n",
    "\n",
    "\n",
    "\n",
    "# Path to your images folder\n",
    "image_folder = './data/histopathologic-cancer-detection/train'\n",
    "\n",
    "# List all files in the directory\n",
    "for filename in os.listdir(image_folder):\n",
    "    if filename.lower().endswith('.tif'):  # Check for .tif extension\n",
    "        image_path = os.path.join(image_folder, filename)\n",
    "        # Read the image\n",
    "        img = cv2.imread(image_path, cv2.IMREAD_UNCHANGED)\n",
    "        \n",
    "        if img is not None:\n",
    "            # Get dimensions\n",
    "            height, width = img.shape[:2]\n",
    "            print(f\"Image: {filename} - Dimensions: {width}x{height}\")\n",
    "            break\n",
    "        else:\n",
    "            print(f\"Failed to load image: {filename}\")\n"
   ],
   "id": "60244f11e9d32dc0",
   "outputs": [
    {
     "name": "stdout",
     "output_type": "stream",
     "text": [
      "220025\n",
      "57458\n",
      "Image: 00001b2b5609af42ab0ab276dd4cd41c3e7745b5.tif - Dimensions: 96x96\n"
     ]
    }
   ],
   "execution_count": 6
  },
  {
   "metadata": {},
   "cell_type": "markdown",
   "source": [
    "##### Key Characteristics\n",
    "\n",
    "- Size: The dataset contains a large number of image patches with the training set containing 220025 images and the test set containing 57458 images. \n",
    "- Dimension: Each image is a 96 x 96 pixel image\n",
    "- Structure: We get a training folder with all training images, a csv file with id and label for each image in the entire set, and a testing folder with all testing images. "
   ],
   "id": "e598e6610f2eba13"
  },
  {
   "metadata": {},
   "cell_type": "markdown",
   "source": [
    "### Exploratory Data Analysis (EDA)\n",
    "\n",
    "Now lets take a look at the data itself and describe what we have. As we saw in the introduction we have 684 training images and 57458 testing images. Now we'll take a look at the label file we have to confirm image ID's and labels. 1 being cancerous cell detected and 0 being not detected."
   ],
   "id": "602345c1f6bb7e82"
  },
  {
   "metadata": {
    "ExecuteTime": {
     "end_time": "2024-08-14T20:48:18.123673Z",
     "start_time": "2024-08-14T20:48:17.954255Z"
    }
   },
   "cell_type": "code",
   "source": [
    "import pandas as pd\n",
    "\n",
    "labels_df = pd.read_csv('./data/histopathologic-cancer-detection/train_labels.csv')\n",
    "labels_df.head()"
   ],
   "id": "acf830759436110a",
   "outputs": [
    {
     "data": {
      "text/plain": [
       "                                         id  label\n",
       "0  f38a6374c348f90b587e046aac6079959adf3835      0\n",
       "1  c18f2d887b7ae4f6742ee445113fa1aef383ed77      1\n",
       "2  755db6279dae599ebb4d39a9123cce439965282d      0\n",
       "3  bc3f0c64fb968ff4a8bd33af6971ecae77c75e08      0\n",
       "4  068aba587a4950175d04c680d38943fd488d6a9d      0"
      ],
      "text/html": [
       "<div>\n",
       "<style scoped>\n",
       "    .dataframe tbody tr th:only-of-type {\n",
       "        vertical-align: middle;\n",
       "    }\n",
       "\n",
       "    .dataframe tbody tr th {\n",
       "        vertical-align: top;\n",
       "    }\n",
       "\n",
       "    .dataframe thead th {\n",
       "        text-align: right;\n",
       "    }\n",
       "</style>\n",
       "<table border=\"1\" class=\"dataframe\">\n",
       "  <thead>\n",
       "    <tr style=\"text-align: right;\">\n",
       "      <th></th>\n",
       "      <th>id</th>\n",
       "      <th>label</th>\n",
       "    </tr>\n",
       "  </thead>\n",
       "  <tbody>\n",
       "    <tr>\n",
       "      <th>0</th>\n",
       "      <td>f38a6374c348f90b587e046aac6079959adf3835</td>\n",
       "      <td>0</td>\n",
       "    </tr>\n",
       "    <tr>\n",
       "      <th>1</th>\n",
       "      <td>c18f2d887b7ae4f6742ee445113fa1aef383ed77</td>\n",
       "      <td>1</td>\n",
       "    </tr>\n",
       "    <tr>\n",
       "      <th>2</th>\n",
       "      <td>755db6279dae599ebb4d39a9123cce439965282d</td>\n",
       "      <td>0</td>\n",
       "    </tr>\n",
       "    <tr>\n",
       "      <th>3</th>\n",
       "      <td>bc3f0c64fb968ff4a8bd33af6971ecae77c75e08</td>\n",
       "      <td>0</td>\n",
       "    </tr>\n",
       "    <tr>\n",
       "      <th>4</th>\n",
       "      <td>068aba587a4950175d04c680d38943fd488d6a9d</td>\n",
       "      <td>0</td>\n",
       "    </tr>\n",
       "  </tbody>\n",
       "</table>\n",
       "</div>"
      ]
     },
     "execution_count": 7,
     "metadata": {},
     "output_type": "execute_result"
    }
   ],
   "execution_count": 7
  },
  {
   "metadata": {
    "ExecuteTime": {
     "end_time": "2024-08-14T20:48:18.778639Z",
     "start_time": "2024-08-14T20:48:18.448375Z"
    }
   },
   "cell_type": "code",
   "source": [
    "import matplotlib.pyplot as plt\n",
    "import seaborn as sns\n",
    "from PIL import Image\n",
    "\n",
    "# Plot the distribution of labels\n",
    "plt.figure(figsize=(8, 6))\n",
    "sns.countplot(x='label', data=labels_df)\n",
    "plt.title('Distribution of Cancer Cell Detection')\n",
    "plt.xlabel('Label')\n",
    "plt.ylabel('Count')\n",
    "plt.xticks(ticks=[0, 1], labels=['No Cancer', 'Cancer'])\n",
    "plt.show()"
   ],
   "id": "dd010e63bfcb9ba5",
   "outputs": [
    {
     "data": {
      "text/plain": [
       "<Figure size 800x600 with 1 Axes>"
      ],
      "image/png": "[encoded data removed]"
     },
     "metadata": {},
     "output_type": "display_data"
    }
   ],
   "execution_count": 8
  },
  {
   "metadata": {},
   "cell_type": "markdown",
   "source": "Here we can see that the majority of these training images are non-cancerous, however there is still around 9000 cancerous images for us to build our model around. Lets take a look at some of the images themselves.",
   "id": "f314ee4568424dd9"
  },
  {
   "metadata": {
    "ExecuteTime": {
     "end_time": "2024-08-14T20:48:19.638192Z",
     "start_time": "2024-08-14T20:48:18.933413Z"
    }
   },
   "cell_type": "code",
   "source": [
    "def display_samples_central_region(df, num_samples=5, img_folder=image_folder):\n",
    "    fig, axes = plt.subplots(2, num_samples, figsize=(15, 6))\n",
    "\n",
    "    for i, label in enumerate([0, 1]):\n",
    "        samples = df[df['label'] == label].sample(num_samples)\n",
    "        for j, img_id in enumerate(samples['id'].values):\n",
    "            img_path = os.path.join(img_folder, f'{img_id}.tif')\n",
    "            img = Image.open(img_path)\n",
    "\n",
    "            # Calculate the center region coordinates\n",
    "            width, height = img.size\n",
    "            left = (width - 36) // 2\n",
    "            top = (height - 36) // 2\n",
    "            right = left + 36\n",
    "            bottom = top + 36\n",
    "\n",
    "            # Crop the image to the central 36x36 pixels\n",
    "            img_central = img.crop((left, top, right, bottom))\n",
    "\n",
    "            axes[i, j].imshow(img_central)\n",
    "            axes[i, j].axis('off')\n",
    "            axes[i, j].set_title(f'Label: {label}')\n",
    "    \n",
    "    plt.suptitle('Sample Images of Central 36x36 Pixels from Both Classes')\n",
    "    plt.show()\n",
    "\n",
    "# Display sample images\n",
    "display_samples_central_region(labels_df)\n"
   ],
   "id": "e66ba0fdd2f3ea6a",
   "outputs": [
    {
     "data": {
      "text/plain": [
       "<Figure size 1500x600 with 10 Axes>"
      ],
      "image/png": "[encoded data removed]"
     },
     "metadata": {},
     "output_type": "display_data"
    }
   ],
   "execution_count": 9
  },
  {
   "metadata": {},
   "cell_type": "markdown",
   "source": "Without having any medical training it's difficult to visually tell what constitutes a tumor cell from an image however there are some similarities to the rows, separated along label (0,1). Lets do some data cleaning on the dataset to make sure we have quality data for our model. ",
   "id": "99782d7709d9ec3"
  },
  {
   "metadata": {
    "ExecuteTime": {
     "end_time": "2024-08-14T20:48:20.840387Z",
     "start_time": "2024-08-14T20:48:20.560076Z"
    }
   },
   "cell_type": "code",
   "source": [
    "# Check for missing labels\n",
    "missing_labels = labels_df['label'].isnull().sum()\n",
    "print(f'Missing labels: {missing_labels}')\n",
    "\n",
    "# Check if each image in the train folder has a corresponding label\n",
    "img_folder = image_folder\n",
    "image_ids = [fname.split('.')[0] for fname in os.listdir(img_folder) if fname.endswith('.tif')]\n",
    "missing_images = set(labels_df['id']) - set(image_ids)\n",
    "\n",
    "print(f'Missing images: {len(missing_images)}')\n"
   ],
   "id": "861a6543425501f8",
   "outputs": [
    {
     "name": "stdout",
     "output_type": "stream",
     "text": [
      "Missing labels: 0\n",
      "Missing images: 0\n"
     ]
    }
   ],
   "execution_count": 10
  },
  {
   "metadata": {},
   "cell_type": "markdown",
   "source": [
    "Looks like we're working with a full dataset, so lets get rolling with a plan of analysis. For this project we will be using a Convolutional Neural Network (CNN) to classify these images as cancerous/non-cancerous. We will implement some data augmentation, given the small size of the 36x36 region to be considered, to help prevent overfitting and improve generalization. Lastly we'll try to address any class imbalance through techniques like oversampling/under sampling or using class weights. \n",
    "\n",
    "### Model Architecture\n",
    "\n",
    "The first model we're going to use is a baseline CNN architecture with an input layer, 2 convolutional layers, fully connected layers, and lastly an output layer. This model will be relatively shallow with just 2 convolutional layers but this is fitting given the the small size of the input images. This should be good enough to capture spatial hierarchies without overfitting. We'll also use ReLU Activation to introduce non-linearity and help the model learn complex patterns. Lastly we'll have a sigmoid output since this is a binary classification. \n",
    "\n",
    "For comparison we'll create some deeper CNN's with additional convolutional layers. We'll try with a 3rd layer with 128 filters and later a 4th layer with 256 neurons. This will help capture more complex patterns and hopefully improve accuracy. \n",
    "\n",
    "We'll also try creating a Fully Convolutional Network (FCN) without any fully connected layers to see how it compares.\n",
    "\n",
    "As for the Hyperparameter Tuning, we'll play around with things like the learning rate, batch size, optimizers, regularization, and data augmentation.  \n",
    "\n",
    "#### Baseline CNN"
   ],
   "id": "5de275ffff9ad2ab"
  },
  {
   "metadata": {
    "ExecuteTime": {
     "end_time": "2024-08-14T21:04:09.077335Z",
     "start_time": "2024-08-14T20:48:22.535839Z"
    }
   },
   "cell_type": "code",
   "source": [
    "import tensorflow as tf\n",
    "from tensorflow.keras import layers, models, optimizers\n",
    "from PIL import Image\n",
    "import pandas as pd\n",
    "import numpy as np\n",
    "import os\n",
    "import random\n",
    "\n",
    "# Set seeds for reproducibility\n",
    "seed = 42\n",
    "tf.random.set_seed(seed)\n",
    "np.random.seed(seed)\n",
    "random.seed(seed)\n",
    "\n",
    "# Reduce dataset size\n",
    "train_size = 50000\n",
    "validation_size = int(0.1 * train_size)  # Use 10% of the train set for validation\n",
    "\n",
    "# Sample the data\n",
    "train_labels_df = labels_df.sample(n=train_size, random_state=42)\n",
    "validation_labels_df = labels_df.drop(train_labels_df.index).sample(n=validation_size, random_state=42)\n",
    "\n",
    "# Custom Dataset class\n",
    "class PathologyDataset(tf.data.Dataset):\n",
    "    def __new__(cls, labels_df, img_folder, transform=None):\n",
    "        def generator():\n",
    "            for idx in range(len(labels_df)):\n",
    "                img_id = labels_df.iloc[idx, 0]\n",
    "                label = labels_df.iloc[idx, 1]\n",
    "                img_path = os.path.join(img_folder, f'{img_id}.tif')\n",
    "                image = Image.open(img_path)\n",
    "\n",
    "                # Extract the central 36x36 pixels\n",
    "                width, height = image.size\n",
    "                left = (width - 36) // 2\n",
    "                top = (height - 36) // 2\n",
    "                right = left + 36\n",
    "                bottom = top + 36\n",
    "                image = image.crop((left, top, right, bottom))\n",
    "\n",
    "                image = np.array(image) / 255.0  # Normalize to [0, 1]\n",
    "                if transform:\n",
    "                    image = transform(image)\n",
    "\n",
    "                yield image, label\n",
    "\n",
    "        return tf.data.Dataset.from_generator(generator, output_signature=(\n",
    "            tf.TensorSpec(shape=(36, 36, 3), dtype=tf.float32),\n",
    "            tf.TensorSpec(shape=(), dtype=tf.int64)))\n",
    "\n",
    "train_dataset = PathologyDataset(train_labels_df, img_folder).shuffle(buffer_size=train_size).batch(32).repeat()\n",
    "validation_dataset = PathologyDataset(validation_labels_df, img_folder).batch(32)\n",
    "\n",
    "# Define the CNN model\n",
    "def create_cnn_model():\n",
    "    model = models.Sequential([\n",
    "        layers.Input(shape=(36, 36, 3)),\n",
    "        layers.Conv2D(32, (3, 3), activation='relu'),\n",
    "        layers.MaxPooling2D((2, 2)),\n",
    "        layers.Conv2D(64, (3, 3), activation='relu'),\n",
    "        layers.MaxPooling2D((2, 2)),\n",
    "        layers.Flatten(),\n",
    "        layers.Dense(128, activation='relu'),\n",
    "        layers.Dense(1, activation='sigmoid')\n",
    "    ])\n",
    "    return model\n",
    "\n",
    "# Instantiate and compile the model\n",
    "basic_model = create_cnn_model()\n",
    "basic_model.compile(optimizer=optimizers.Adam(learning_rate=0.001),\n",
    "              loss='binary_crossentropy',\n",
    "              metrics=['accuracy'])\n",
    "\n",
    "# Train the model\n",
    "num_epochs = 10\n",
    "steps_per_epoch = min(train_size // 32, len(train_labels_df) // 32)\n",
    "validation_steps = min(validation_size // 32, len(validation_labels_df) // 32)\n",
    "\n",
    "basic_model.fit(train_dataset, epochs=num_epochs, steps_per_epoch=steps_per_epoch, validation_data=validation_dataset, validation_steps=validation_steps)"
   ],
   "id": "addeac45652755f1",
   "outputs": [
    {
     "name": "stdout",
     "output_type": "stream",
     "text": [
      "Epoch 1/10\n",
      "\u001B[1m1562/1562\u001B[0m \u001B[32m━━━━━━━━━━━━━━━━━━━━\u001B[0m\u001B[37m\u001B[0m \u001B[1m338s\u001B[0m 27ms/step - accuracy: 0.7137 - loss: 0.5542 - val_accuracy: 0.7648 - val_loss: 0.5014\n",
      "Epoch 2/10\n",
      "\u001B[1m1562/1562\u001B[0m \u001B[32m━━━━━━━━━━━━━━━━━━━━\u001B[0m\u001B[37m\u001B[0m \u001B[1m144s\u001B[0m 93ms/step - accuracy: 0.7740 - loss: 0.4876 - val_accuracy: 0.8750 - val_loss: 0.2313\n",
      "Epoch 3/10\n",
      "\u001B[1m   1/1562\u001B[0m \u001B[37m━━━━━━━━━━━━━━━━━━━━\u001B[0m \u001B[1m17s\u001B[0m 11ms/step - accuracy: 0.8750 - loss: 0.3609"
     ]
    },
    {
     "name": "stderr",
     "output_type": "stream",
     "text": [
      "C:\\Users\\jmosc\\AppData\\Local\\Programs\\Python\\Python311\\Lib\\contextlib.py:158: UserWarning: Your input ran out of data; interrupting training. Make sure that your dataset or generator can generate at least `steps_per_epoch * epochs` batches. You may need to use the `.repeat()` function when building your dataset.\n",
      "  self.gen.throw(typ, value, traceback)\n"
     ]
    },
    {
     "name": "stdout",
     "output_type": "stream",
     "text": [
      "\u001B[1m1562/1562\u001B[0m \u001B[32m━━━━━━━━━━━━━━━━━━━━\u001B[0m\u001B[37m\u001B[0m \u001B[1m64s\u001B[0m 41ms/step - accuracy: 0.7916 - loss: 0.4593 - val_accuracy: 0.7977 - val_loss: 0.4488\n",
      "Epoch 4/10\n",
      "\u001B[1m1562/1562\u001B[0m \u001B[32m━━━━━━━━━━━━━━━━━━━━\u001B[0m\u001B[37m\u001B[0m \u001B[1m51s\u001B[0m 33ms/step - accuracy: 0.7952 - loss: 0.4482 - val_accuracy: 0.8750 - val_loss: 0.3015\n",
      "Epoch 5/10\n",
      "\u001B[1m1562/1562\u001B[0m \u001B[32m━━━━━━━━━━━━━━━━━━━━\u001B[0m\u001B[37m\u001B[0m \u001B[1m63s\u001B[0m 41ms/step - accuracy: 0.8018 - loss: 0.4419 - val_accuracy: 0.8107 - val_loss: 0.4405\n",
      "Epoch 6/10\n",
      "\u001B[1m1562/1562\u001B[0m \u001B[32m━━━━━━━━━━━━━━━━━━━━\u001B[0m\u001B[37m\u001B[0m \u001B[1m52s\u001B[0m 33ms/step - accuracy: 0.8115 - loss: 0.4210 - val_accuracy: 1.0000 - val_loss: 0.1478\n",
      "Epoch 7/10\n",
      "\u001B[1m1562/1562\u001B[0m \u001B[32m━━━━━━━━━━━━━━━━━━━━\u001B[0m\u001B[37m\u001B[0m \u001B[1m64s\u001B[0m 41ms/step - accuracy: 0.8215 - loss: 0.4026 - val_accuracy: 0.8051 - val_loss: 0.4514\n",
      "Epoch 8/10\n",
      "\u001B[1m1562/1562\u001B[0m \u001B[32m━━━━━━━━━━━━━━━━━━━━\u001B[0m\u001B[37m\u001B[0m \u001B[1m52s\u001B[0m 33ms/step - accuracy: 0.8243 - loss: 0.3964 - val_accuracy: 1.0000 - val_loss: 0.1377\n",
      "Epoch 9/10\n",
      "\u001B[1m1562/1562\u001B[0m \u001B[32m━━━━━━━━━━━━━━━━━━━━\u001B[0m\u001B[37m\u001B[0m \u001B[1m64s\u001B[0m 41ms/step - accuracy: 0.8313 - loss: 0.3827 - val_accuracy: 0.8041 - val_loss: 0.4454\n",
      "Epoch 10/10\n",
      "\u001B[1m1562/1562\u001B[0m \u001B[32m━━━━━━━━━━━━━━━━━━━━\u001B[0m\u001B[37m\u001B[0m \u001B[1m53s\u001B[0m 34ms/step - accuracy: 0.8435 - loss: 0.3588 - val_accuracy: 1.0000 - val_loss: 0.2015\n"
     ]
    },
    {
     "data": {
      "text/plain": [
       "<keras.src.callbacks.history.History at 0x24bd7f997d0>"
      ]
     },
     "execution_count": 11,
     "metadata": {},
     "output_type": "execute_result"
    }
   ],
   "execution_count": 11
  },
  {
   "metadata": {},
   "cell_type": "markdown",
   "source": [
    "## Results and Analysis\n",
    "\n",
    "After testing out training the model on the whole train set, it was taking too long to train so we've decided to use a random sample of 50000 to train the model with, and leave 5000 as our validation set to see how our accuracy worked out. We get a training accuracy of 0.8435 and a validation accuracy of 1 . This is a pretty good score, but I imagine this may be due to some overfitting from the small sample size. Lets take a look at what 3 layers does. \n",
    "\n",
    "### 3 Layer CNN"
   ],
   "id": "f6dcb166e8e38cb9"
  },
  {
   "metadata": {
    "ExecuteTime": {
     "end_time": "2024-08-14T22:15:05.651035Z",
     "start_time": "2024-08-14T21:20:33.947422Z"
    }
   },
   "cell_type": "code",
   "source": [
    "# Custom Dataset class\n",
    "class PathologyDataset(tf.data.Dataset):\n",
    "    def __new__(cls, labels_df, img_folder, transform=None):\n",
    "        def generator():\n",
    "            for idx in range(len(labels_df)):\n",
    "                img_id = labels_df.iloc[idx, 0]\n",
    "                label = labels_df.iloc[idx, 1]\n",
    "                img_path = os.path.join(img_folder, f'{img_id}.tif')\n",
    "                image = Image.open(img_path)\n",
    "\n",
    "                # Extract the central 36x36 pixels\n",
    "                width, height = image.size\n",
    "                left = (width - 36) // 2\n",
    "                top = (height - 36) // 2\n",
    "                right = left + 36\n",
    "                bottom = top + 36\n",
    "                image = image.crop((left, top, right, bottom))\n",
    "\n",
    "                image = np.array(image) / 255.0  # Normalize to [0, 1]\n",
    "                if transform:\n",
    "                    image = transform(image)\n",
    "\n",
    "                yield image, label\n",
    "\n",
    "        return tf.data.Dataset.from_generator(generator, output_signature=(\n",
    "            tf.TensorSpec(shape=(36, 36, 3), dtype=tf.float32),\n",
    "            tf.TensorSpec(shape=(), dtype=tf.int64)))\n",
    "\n",
    "train_dataset = PathologyDataset(train_labels_df, img_folder).shuffle(buffer_size=train_size).batch(32).repeat()\n",
    "validation_dataset = PathologyDataset(validation_labels_df, img_folder).batch(32)\n",
    "\n",
    "# Define the CNN model with a third convolutional layer\n",
    "def create_cnn_model():\n",
    "    model = models.Sequential([\n",
    "        layers.Input(shape=(36, 36, 3)),\n",
    "        layers.Conv2D(32, (3, 3), activation='relu'),\n",
    "        layers.MaxPooling2D((2, 2)),\n",
    "        layers.Conv2D(64, (3, 3), activation='relu'),\n",
    "        layers.MaxPooling2D((2, 2)),\n",
    "        layers.Conv2D(128, (3, 3), activation='relu'),  # Third convolutional layer added\n",
    "        layers.MaxPooling2D((2, 2)),\n",
    "        layers.Flatten(),\n",
    "        layers.Dense(128, activation='relu'),\n",
    "        layers.Dense(1, activation='sigmoid')\n",
    "    ])\n",
    "    return model\n",
    "\n",
    "# Instantiate and compile the model\n",
    "cnn3_model = create_cnn_model()\n",
    "cnn3_model.compile(optimizer=optimizers.Adam(learning_rate=0.001),\n",
    "              loss='binary_crossentropy',\n",
    "              metrics=['accuracy'])\n",
    "\n",
    "# Train the model\n",
    "num_epochs = 10\n",
    "steps_per_epoch = min(train_size // 32, len(train_labels_df) // 32)\n",
    "validation_steps = min(validation_size // 32, len(validation_labels_df) // 32)\n",
    "\n",
    "cnn3_model.fit(train_dataset, epochs=num_epochs, steps_per_epoch=steps_per_epoch, validation_data=validation_dataset, validation_steps=validation_steps)"
   ],
   "id": "6129b7b9a59bd8ee",
   "outputs": [
    {
     "name": "stdout",
     "output_type": "stream",
     "text": [
      "Epoch 1/10\n",
      "\u001B[1m1562/1562\u001B[0m \u001B[32m━━━━━━━━━━━━━━━━━━━━\u001B[0m\u001B[37m\u001B[0m \u001B[1m290s\u001B[0m 32ms/step - accuracy: 0.7196 - loss: 0.5580 - val_accuracy: 0.7740 - val_loss: 0.4927\n",
      "Epoch 2/10\n",
      "\u001B[1m1562/1562\u001B[0m \u001B[32m━━━━━━━━━━━━━━━━━━━━\u001B[0m\u001B[37m\u001B[0m \u001B[1m347s\u001B[0m 223ms/step - accuracy: 0.7773 - loss: 0.4845 - val_accuracy: 0.8750 - val_loss: 0.1781\n",
      "Epoch 3/10\n",
      "\u001B[1m   1/1562\u001B[0m \u001B[37m━━━━━━━━━━━━━━━━━━━━\u001B[0m \u001B[1m12s\u001B[0m 8ms/step - accuracy: 0.8438 - loss: 0.3706"
     ]
    },
    {
     "name": "stderr",
     "output_type": "stream",
     "text": [
      "C:\\Users\\jmosc\\AppData\\Local\\Programs\\Python\\Python311\\Lib\\contextlib.py:158: UserWarning: Your input ran out of data; interrupting training. Make sure that your dataset or generator can generate at least `steps_per_epoch * epochs` batches. You may need to use the `.repeat()` function when building your dataset.\n",
      "  self.gen.throw(typ, value, traceback)\n"
     ]
    },
    {
     "name": "stdout",
     "output_type": "stream",
     "text": [
      "\u001B[1m1562/1562\u001B[0m \u001B[32m━━━━━━━━━━━━━━━━━━━━\u001B[0m\u001B[37m\u001B[0m \u001B[1m439s\u001B[0m 281ms/step - accuracy: 0.7896 - loss: 0.4644 - val_accuracy: 0.7879 - val_loss: 0.4649\n",
      "Epoch 4/10\n",
      "\u001B[1m1562/1562\u001B[0m \u001B[32m━━━━━━━━━━━━━━━━━━━━\u001B[0m\u001B[37m\u001B[0m \u001B[1m310s\u001B[0m 198ms/step - accuracy: 0.8000 - loss: 0.4430 - val_accuracy: 0.8750 - val_loss: 0.1842\n",
      "Epoch 5/10\n",
      "\u001B[1m1562/1562\u001B[0m \u001B[32m━━━━━━━━━━━━━━━━━━━━\u001B[0m\u001B[37m\u001B[0m \u001B[1m346s\u001B[0m 222ms/step - accuracy: 0.8066 - loss: 0.4300 - val_accuracy: 0.7871 - val_loss: 0.4620\n",
      "Epoch 6/10\n",
      "\u001B[1m1562/1562\u001B[0m \u001B[32m━━━━━━━━━━━━━━━━━━━━\u001B[0m\u001B[37m\u001B[0m \u001B[1m313s\u001B[0m 200ms/step - accuracy: 0.8175 - loss: 0.4101 - val_accuracy: 1.0000 - val_loss: 0.0988\n",
      "Epoch 7/10\n",
      "\u001B[1m1562/1562\u001B[0m \u001B[32m━━━━━━━━━━━━━━━━━━━━\u001B[0m\u001B[37m\u001B[0m \u001B[1m367s\u001B[0m 235ms/step - accuracy: 0.8251 - loss: 0.3902 - val_accuracy: 0.7933 - val_loss: 0.4652\n",
      "Epoch 8/10\n",
      "\u001B[1m1562/1562\u001B[0m \u001B[32m━━━━━━━━━━━━━━━━━━━━\u001B[0m\u001B[37m\u001B[0m \u001B[1m306s\u001B[0m 196ms/step - accuracy: 0.8323 - loss: 0.3738 - val_accuracy: 1.0000 - val_loss: 0.1193\n",
      "Epoch 9/10\n",
      "\u001B[1m1562/1562\u001B[0m \u001B[32m━━━━━━━━━━━━━━━━━━━━\u001B[0m\u001B[37m\u001B[0m \u001B[1m288s\u001B[0m 184ms/step - accuracy: 0.8492 - loss: 0.3480 - val_accuracy: 0.7871 - val_loss: 0.4799\n",
      "Epoch 10/10\n",
      "\u001B[1m1562/1562\u001B[0m \u001B[32m━━━━━━━━━━━━━━━━━━━━\u001B[0m\u001B[37m\u001B[0m \u001B[1m263s\u001B[0m 168ms/step - accuracy: 0.8636 - loss: 0.3156 - val_accuracy: 0.8750 - val_loss: 0.1970\n"
     ]
    },
    {
     "data": {
      "text/plain": [
       "<keras.src.callbacks.history.History at 0x24bd3e68350>"
      ]
     },
     "execution_count": 13,
     "metadata": {},
     "output_type": "execute_result"
    }
   ],
   "execution_count": 13
  },
  {
   "metadata": {},
   "cell_type": "markdown",
   "source": "",
   "id": "28eb537338fd336f"
  },
  {
   "metadata": {},
   "cell_type": "markdown",
   "source": [
    "Here we find we get a training accuracy of 0.8636 and a validation accuracy of 0.8750 This did not help much for our accuracy. Lets try again with adding a fourth layer. \n",
    "\n",
    "### 4 Layer CNN"
   ],
   "id": "54f10293dd6c1fd7"
  },
  {
   "metadata": {
    "ExecuteTime": {
     "end_time": "2024-08-14T22:47:07.608537Z",
     "start_time": "2024-08-14T22:37:16.179390Z"
    }
   },
   "cell_type": "code",
   "source": [
    "# Custom Dataset class\n",
    "class PathologyDataset(tf.data.Dataset):\n",
    "    def __new__(cls, labels_df, img_folder, transform=None):\n",
    "        def generator():\n",
    "            for idx in range(len(labels_df)):\n",
    "                img_id = labels_df.iloc[idx, 0]\n",
    "                label = labels_df.iloc[idx, 1]\n",
    "                img_path = os.path.join(img_folder, f'{img_id}.tif')\n",
    "                image = Image.open(img_path)\n",
    "\n",
    "                # Extract the central 36x36 pixels\n",
    "                width, height = image.size\n",
    "                left = (width - 36) // 2\n",
    "                top = (height - 36) // 2\n",
    "                right = left + 36\n",
    "                bottom = top + 36\n",
    "                image = image.crop((left, top, right, bottom))\n",
    "\n",
    "                image = np.array(image) / 255.0  # Normalize to [0, 1]\n",
    "                if transform:\n",
    "                    image = transform(image)\n",
    "\n",
    "                yield image, label\n",
    "\n",
    "        return tf.data.Dataset.from_generator(generator, output_signature=(\n",
    "            tf.TensorSpec(shape=(36, 36, 3), dtype=tf.float32),\n",
    "            tf.TensorSpec(shape=(), dtype=tf.int64)))\n",
    "\n",
    "train_dataset = PathologyDataset(train_labels_df, img_folder).shuffle(buffer_size=train_size).batch(32).repeat()\n",
    "validation_dataset = PathologyDataset(validation_labels_df, img_folder).batch(32)\n",
    "\n",
    "# Define the CNN model with a fourth convolutional layer\n",
    "def create_cnn4_model():\n",
    "    model = models.Sequential([\n",
    "        layers.Input(shape=(36, 36, 3)),\n",
    "        layers.Conv2D(32, (3, 3), activation='relu', padding='same'),\n",
    "        layers.MaxPooling2D((2, 2)),\n",
    "        layers.Conv2D(64, (3, 3), activation='relu', padding='same'),\n",
    "        layers.MaxPooling2D((2, 2)),\n",
    "        layers.Conv2D(128, (3, 3), activation='relu', padding='same'),\n",
    "        layers.MaxPooling2D((2, 2)),\n",
    "        layers.Conv2D(256, (3, 3), activation='relu', padding='same'),  # Fourth convolutional layer\n",
    "        layers.MaxPooling2D((2, 2)),\n",
    "        layers.Flatten(),\n",
    "        layers.Dense(128, activation='relu'),\n",
    "        layers.Dense(1, activation='sigmoid')\n",
    "    ])\n",
    "    return model\n",
    "\n",
    "# Instantiate and compile the model\n",
    "cnn4_model = create_cnn_model()\n",
    "cnn4_model.compile(optimizer=optimizers.Adam(learning_rate=0.001),\n",
    "              loss='binary_crossentropy',\n",
    "              metrics=['accuracy'])\n",
    "\n",
    "# Train the model\n",
    "num_epochs = 10\n",
    "steps_per_epoch = min(train_size // 32, len(train_labels_df) // 32)\n",
    "validation_steps = min(validation_size // 32, len(validation_labels_df) // 32)\n",
    "\n",
    "cnn4_model.fit(train_dataset, epochs=num_epochs, steps_per_epoch=steps_per_epoch, validation_data=validation_dataset, validation_steps=validation_steps)"
   ],
   "id": "6bb3866df77e4a00",
   "outputs": [
    {
     "name": "stdout",
     "output_type": "stream",
     "text": [
      "Epoch 1/10\n",
      "\u001B[1m1562/1562\u001B[0m \u001B[32m━━━━━━━━━━━━━━━━━━━━\u001B[0m\u001B[37m\u001B[0m \u001B[1m64s\u001B[0m 10ms/step - accuracy: 0.7124 - loss: 0.5606 - val_accuracy: 0.7806 - val_loss: 0.4859\n",
      "Epoch 2/10\n",
      "\u001B[1m1562/1562\u001B[0m \u001B[32m━━━━━━━━━━━━━━━━━━━━\u001B[0m\u001B[37m\u001B[0m \u001B[1m62s\u001B[0m 40ms/step - accuracy: 0.7771 - loss: 0.4835 - val_accuracy: 0.8750 - val_loss: 0.2283\n",
      "Epoch 3/10\n",
      "\u001B[1m   1/1562\u001B[0m \u001B[37m━━━━━━━━━━━━━━━━━━━━\u001B[0m \u001B[1m12s\u001B[0m 8ms/step - accuracy: 0.7500 - loss: 0.4773"
     ]
    },
    {
     "name": "stderr",
     "output_type": "stream",
     "text": [
      "C:\\Users\\jmosc\\AppData\\Local\\Programs\\Python\\Python311\\Lib\\contextlib.py:158: UserWarning: Your input ran out of data; interrupting training. Make sure that your dataset or generator can generate at least `steps_per_epoch * epochs` batches. You may need to use the `.repeat()` function when building your dataset.\n",
      "  self.gen.throw(typ, value, traceback)\n"
     ]
    },
    {
     "name": "stdout",
     "output_type": "stream",
     "text": [
      "\u001B[1m1562/1562\u001B[0m \u001B[32m━━━━━━━━━━━━━━━━━━━━\u001B[0m\u001B[37m\u001B[0m \u001B[1m65s\u001B[0m 42ms/step - accuracy: 0.7895 - loss: 0.4627 - val_accuracy: 0.7812 - val_loss: 0.4722\n",
      "Epoch 4/10\n",
      "\u001B[1m1562/1562\u001B[0m \u001B[32m━━━━━━━━━━━━━━━━━━━━\u001B[0m\u001B[37m\u001B[0m \u001B[1m51s\u001B[0m 33ms/step - accuracy: 0.7967 - loss: 0.4475 - val_accuracy: 0.8750 - val_loss: 0.2086\n",
      "Epoch 5/10\n",
      "\u001B[1m1562/1562\u001B[0m \u001B[32m━━━━━━━━━━━━━━━━━━━━\u001B[0m\u001B[37m\u001B[0m \u001B[1m63s\u001B[0m 40ms/step - accuracy: 0.8055 - loss: 0.4334 - val_accuracy: 0.7955 - val_loss: 0.4642\n",
      "Epoch 6/10\n",
      "\u001B[1m1562/1562\u001B[0m \u001B[32m━━━━━━━━━━━━━━━━━━━━\u001B[0m\u001B[37m\u001B[0m \u001B[1m52s\u001B[0m 33ms/step - accuracy: 0.8141 - loss: 0.4186 - val_accuracy: 0.8750 - val_loss: 0.1764\n",
      "Epoch 7/10\n",
      "\u001B[1m1562/1562\u001B[0m \u001B[32m━━━━━━━━━━━━━━━━━━━━\u001B[0m\u001B[37m\u001B[0m \u001B[1m64s\u001B[0m 41ms/step - accuracy: 0.8166 - loss: 0.4055 - val_accuracy: 0.8013 - val_loss: 0.4583\n",
      "Epoch 8/10\n",
      "\u001B[1m1562/1562\u001B[0m \u001B[32m━━━━━━━━━━━━━━━━━━━━\u001B[0m\u001B[37m\u001B[0m \u001B[1m52s\u001B[0m 33ms/step - accuracy: 0.8269 - loss: 0.3916 - val_accuracy: 0.8750 - val_loss: 0.1893\n",
      "Epoch 9/10\n",
      "\u001B[1m1562/1562\u001B[0m \u001B[32m━━━━━━━━━━━━━━━━━━━━\u001B[0m\u001B[37m\u001B[0m \u001B[1m67s\u001B[0m 43ms/step - accuracy: 0.8358 - loss: 0.3719 - val_accuracy: 0.7975 - val_loss: 0.4663\n",
      "Epoch 10/10\n",
      "\u001B[1m1562/1562\u001B[0m \u001B[32m━━━━━━━━━━━━━━━━━━━━\u001B[0m\u001B[37m\u001B[0m \u001B[1m51s\u001B[0m 33ms/step - accuracy: 0.8450 - loss: 0.3574 - val_accuracy: 0.8750 - val_loss: 0.1675\n"
     ]
    },
    {
     "data": {
      "text/plain": [
       "<keras.src.callbacks.history.History at 0x24bd7f75b10>"
      ]
     },
     "execution_count": 15,
     "metadata": {},
     "output_type": "execute_result"
    }
   ],
   "execution_count": 15
  },
  {
   "metadata": {},
   "cell_type": "markdown",
   "source": [
    "Once we added in a 4th layer, we get a training accuracy of 0.845 and a validation accuracy thats closer to realistic 0.8750, Lets take a look at an FCN model and see how that differs.\n",
    "\n",
    "### FCN"
   ],
   "id": "c04ffeedd918919b"
  },
  {
   "metadata": {
    "ExecuteTime": {
     "end_time": "2024-08-14T23:01:34.528965Z",
     "start_time": "2024-08-14T22:48:16.169819Z"
    }
   },
   "cell_type": "code",
   "source": [
    "# Define the FCN model\n",
    "def create_fcn_model():\n",
    "    model = models.Sequential([\n",
    "        layers.Input(shape=(36, 36, 3)),\n",
    "        layers.Conv2D(32, (3, 3), activation='relu', padding='same'),\n",
    "        layers.MaxPooling2D((2, 2)),\n",
    "        layers.Conv2D(64, (3, 3), activation='relu', padding='same'),\n",
    "        layers.MaxPooling2D((2, 2)),\n",
    "        layers.Conv2D(128, (3, 3), activation='relu', padding='same'),\n",
    "        layers.MaxPooling2D((2, 2)),\n",
    "        layers.Conv2D(256, (3, 3), activation='relu', padding='same'),\n",
    "        layers.Conv2D(256, (3, 3), activation='relu', padding='same'),\n",
    "        layers.Conv2D(1, (1, 1), activation='sigmoid', padding='same'),\n",
    "        layers.GlobalAveragePooling2D()  # Reduce the output to a single scalar per image\n",
    "    ])\n",
    "    return model\n",
    "\n",
    "# Instantiate and compile the model\n",
    "fcn_model = create_fcn_model()\n",
    "fcn_model.compile(optimizer=optimizers.Adam(learning_rate=0.001),\n",
    "              loss='binary_crossentropy',\n",
    "              metrics=['accuracy'])\n",
    "\n",
    "# Train the model\n",
    "num_epochs = 10\n",
    "steps_per_epoch = min(train_size // 32, len(train_labels_df) // 32)\n",
    "validation_steps = min(validation_size // 32, len(validation_labels_df) // 32)\n",
    "\n",
    "fcn_model.fit(train_dataset, epochs=num_epochs, steps_per_epoch=steps_per_epoch, validation_data=validation_dataset, validation_steps=validation_steps)"
   ],
   "id": "e2288ef22a84f9ec",
   "outputs": [
    {
     "name": "stdout",
     "output_type": "stream",
     "text": [
      "Epoch 1/10\n",
      "\u001B[1m1562/1562\u001B[0m \u001B[32m━━━━━━━━━━━━━━━━━━━━\u001B[0m\u001B[37m\u001B[0m \u001B[1m98s\u001B[0m 28ms/step - accuracy: 0.7160 - loss: 0.5506 - val_accuracy: 0.7804 - val_loss: 0.4821\n",
      "Epoch 2/10\n",
      "\u001B[1m1562/1562\u001B[0m \u001B[32m━━━━━━━━━━━━━━━━━━━━\u001B[0m\u001B[37m\u001B[0m \u001B[1m77s\u001B[0m 49ms/step - accuracy: 0.7835 - loss: 0.4701 - val_accuracy: 0.8750 - val_loss: 0.2813\n",
      "Epoch 3/10\n",
      "\u001B[1m   1/1562\u001B[0m \u001B[37m━━━━━━━━━━━━━━━━━━━━\u001B[0m \u001B[1m35s\u001B[0m 23ms/step - accuracy: 0.7812 - loss: 0.3735"
     ]
    },
    {
     "name": "stderr",
     "output_type": "stream",
     "text": [
      "C:\\Users\\jmosc\\AppData\\Local\\Programs\\Python\\Python311\\Lib\\contextlib.py:158: UserWarning: Your input ran out of data; interrupting training. Make sure that your dataset or generator can generate at least `steps_per_epoch * epochs` batches. You may need to use the `.repeat()` function when building your dataset.\n",
      "  self.gen.throw(typ, value, traceback)\n"
     ]
    },
    {
     "name": "stdout",
     "output_type": "stream",
     "text": [
      "\u001B[1m1562/1562\u001B[0m \u001B[32m━━━━━━━━━━━━━━━━━━━━\u001B[0m\u001B[37m\u001B[0m \u001B[1m86s\u001B[0m 55ms/step - accuracy: 0.7957 - loss: 0.4442 - val_accuracy: 0.7843 - val_loss: 0.4620\n",
      "Epoch 4/10\n",
      "\u001B[1m1562/1562\u001B[0m \u001B[32m━━━━━━━━━━━━━━━━━━━━\u001B[0m\u001B[37m\u001B[0m \u001B[1m72s\u001B[0m 46ms/step - accuracy: 0.8069 - loss: 0.4265 - val_accuracy: 0.8750 - val_loss: 0.1963\n",
      "Epoch 5/10\n",
      "\u001B[1m1562/1562\u001B[0m \u001B[32m━━━━━━━━━━━━━━━━━━━━\u001B[0m\u001B[37m\u001B[0m \u001B[1m87s\u001B[0m 56ms/step - accuracy: 0.8146 - loss: 0.4149 - val_accuracy: 0.8163 - val_loss: 0.4105\n",
      "Epoch 6/10\n",
      "\u001B[1m1562/1562\u001B[0m \u001B[32m━━━━━━━━━━━━━━━━━━━━\u001B[0m\u001B[37m\u001B[0m \u001B[1m72s\u001B[0m 46ms/step - accuracy: 0.8187 - loss: 0.4008 - val_accuracy: 0.8750 - val_loss: 0.1666\n",
      "Epoch 7/10\n",
      "\u001B[1m1562/1562\u001B[0m \u001B[32m━━━━━━━━━━━━━━━━━━━━\u001B[0m\u001B[37m\u001B[0m \u001B[1m85s\u001B[0m 54ms/step - accuracy: 0.8300 - loss: 0.3833 - val_accuracy: 0.8227 - val_loss: 0.4060\n",
      "Epoch 8/10\n",
      "\u001B[1m1562/1562\u001B[0m \u001B[32m━━━━━━━━━━━━━━━━━━━━\u001B[0m\u001B[37m\u001B[0m \u001B[1m72s\u001B[0m 46ms/step - accuracy: 0.8359 - loss: 0.3690 - val_accuracy: 1.0000 - val_loss: 0.1891\n",
      "Epoch 9/10\n",
      "\u001B[1m1562/1562\u001B[0m \u001B[32m━━━━━━━━━━━━━━━━━━━━\u001B[0m\u001B[37m\u001B[0m \u001B[1m80s\u001B[0m 51ms/step - accuracy: 0.8476 - loss: 0.3480 - val_accuracy: 0.8159 - val_loss: 0.4232\n",
      "Epoch 10/10\n",
      "\u001B[1m1562/1562\u001B[0m \u001B[32m━━━━━━━━━━━━━━━━━━━━\u001B[0m\u001B[37m\u001B[0m \u001B[1m69s\u001B[0m 44ms/step - accuracy: 0.8603 - loss: 0.3227 - val_accuracy: 1.0000 - val_loss: 0.0746\n"
     ]
    },
    {
     "data": {
      "text/plain": [
       "<keras.src.callbacks.history.History at 0x24bd4002ed0>"
      ]
     },
     "execution_count": 16,
     "metadata": {},
     "output_type": "execute_result"
    }
   ],
   "execution_count": 16
  },
  {
   "metadata": {},
   "cell_type": "markdown",
   "source": [
    "Based on this we get a training accuracy of 0.8603 and a validation accuracy of 1, that's a little surprising to me, this may just be due to the small validation sample size.\n",
    "\n",
    "These are the results of our different models training accuracy and validation accuracy\n",
    "\n",
    "### Hyperparameter Results \n",
    "\n",
    "| Model        | Training Accuracy | Validation Accuracy |\n",
    "|--------------|-------------------|---------------------|\n",
    "| basic_model  | 0.8435            | 1.0000              |\n",
    "| cnn3_model   | 0.8636            | 0.8750              |\n",
    "| cnn4_model   | 0.8450            | 0.8750              |\n",
    "| fcn_model    | 0.8603            | 1.0000              |\n",
    "\n",
    "Lets take a look at how all these models do with unseen test data. "
   ],
   "id": "2e29cc17fbb5eddb"
  },
  {
   "metadata": {
    "ExecuteTime": {
     "end_time": "2024-08-15T00:43:28.268757Z",
     "start_time": "2024-08-15T00:36:36.716461Z"
    }
   },
   "cell_type": "code",
   "source": [
    "import tensorflow as tf\n",
    "import pandas as pd\n",
    "import numpy as np\n",
    "from PIL import Image\n",
    "import os\n",
    "\n",
    "# Paths\n",
    "test_folder = './data/histopathologic-cancer-detection/test'\n",
    "output_folder = './submissions/'\n",
    "\n",
    "# Ensure the output directory exists\n",
    "os.makedirs(output_folder, exist_ok=True)\n",
    "\n",
    "# Load test images and IDs\n",
    "test_ids = [f.split('.')[0] for f in os.listdir(test_folder) if f.endswith('.tif')]\n",
    "\n",
    "def load_test_images(test_folder, test_ids):\n",
    "    images = []\n",
    "    for img_id in test_ids:\n",
    "        img_path = os.path.join(test_folder, f'{img_id}.tif')\n",
    "        image = Image.open(img_path)\n",
    "\n",
    "        # Extract the central 36x36 pixels\n",
    "        width, height = image.size\n",
    "        left = (width - 36) // 2\n",
    "        top = (height - 36) // 2\n",
    "        right = left + 36\n",
    "        bottom = top + 36\n",
    "        image = image.crop((left, top, right, bottom))\n",
    "\n",
    "        image = np.array(image) / 255.0  # Normalize to [0, 1]\n",
    "        images.append(image)\n",
    "    \n",
    "    return np.array(images)\n",
    "\n",
    "test_images = load_test_images(test_folder, test_ids)\n",
    "\n",
    "def make_predictions(model, test_images, test_ids, output_file):\n",
    "    predictions = model.predict(test_images)\n",
    "    predictions = (predictions > 0.5).astype(int).flatten()  # Thresholding at 0.5\n",
    "    submission_df = pd.DataFrame({'id': test_ids, 'label': predictions})\n",
    "    submission_df.to_csv(output_file, index=False)\n",
    "\n",
    "# Make predictions and create CSVs\n",
    "make_predictions(basic_model, test_images, test_ids, os.path.join(output_folder, 'basic_model_submission.csv'))\n",
    "make_predictions(cnn3_model, test_images, test_ids, os.path.join(output_folder, 'cnn3_model_submission.csv'))\n",
    "make_predictions(cnn4_model, test_images, test_ids, os.path.join(output_folder, 'cnn4_model_submission.csv'))\n",
    "make_predictions(fcn_model, test_images, test_ids, os.path.join(output_folder, 'fcn_model_submission.csv'))\n",
    "\n",
    "print(\"Submissions have been created and saved to the submissions folder.\")\n"
   ],
   "id": "88d779910ba53986",
   "outputs": [
    {
     "name": "stdout",
     "output_type": "stream",
     "text": [
      "\u001B[1m1796/1796\u001B[0m \u001B[32m━━━━━━━━━━━━━━━━━━━━\u001B[0m\u001B[37m\u001B[0m \u001B[1m14s\u001B[0m 5ms/step\n",
      "\u001B[1m1796/1796\u001B[0m \u001B[32m━━━━━━━━━━━━━━━━━━━━\u001B[0m\u001B[37m\u001B[0m \u001B[1m6s\u001B[0m 3ms/step\n",
      "\u001B[1m1796/1796\u001B[0m \u001B[32m━━━━━━━━━━━━━━━━━━━━\u001B[0m\u001B[37m\u001B[0m \u001B[1m6s\u001B[0m 3ms/step\n",
      "\u001B[1m1796/1796\u001B[0m \u001B[32m━━━━━━━━━━━━━━━━━━━━\u001B[0m\u001B[37m\u001B[0m \u001B[1m13s\u001B[0m 7ms/step\n",
      "Submissions have been created and saved to the submissions folder.\n"
     ]
    }
   ],
   "execution_count": 19
  },
  {
   "metadata": {},
   "cell_type": "markdown",
   "source": [
    "Here we can see the results of each model in the Kaggle Competition:\n",
    "\n",
    "![Alt text](Kaggle_Result.PNG)"
   ],
   "id": "b58d3125c45d97db"
  },
  {
   "metadata": {},
   "cell_type": "markdown",
   "source": [
    "From this we can see that the best score was actually given to the 3 Layer CNN model. This is particularly interesting since it had the best training accuracy but not the best validation accuracy. So based off the training scores we expected this, however it didnt prove better than the other models with seeing new data. \n",
    "\n",
    "## Conclusion\n",
    "\n",
    "In this case I believe the 3 Layer CNN did the best because it was more complex than the basic model, however it had a balanced complexity that the 4 Layer CNN might have gone too far on. This helped us to avoid overfitting and remain closer to the true predictions of the testing data. I also believe having a learning rate of 0.001 allowed the model to learn effectively without overshooting optimal points. The batch size of 32 also allowed a good balance between efficient training and the ability to generalize. \n",
    "\n",
    "I think CNN4 and the FCN struggled because they were just excessively complex. These models were just too deep for the input dimensions and feature map size reduced too quickly, losing important information. Lastly, I think the cutting of sample size in training affected the model by not giving it enough data to work with. My computer honestly couldn't handle the load of anything more but it definitely made a difference. \n",
    "\n",
    "For future work, other techniques like data augmentation and more extensive hyperparameter tuning could be leveraged to test out more combinations of models and parameters. "
   ],
   "id": "18b5596ade5a023c"
  },
  {
   "metadata": {},
   "cell_type": "markdown",
   "source": [
    "### Resources\n",
    "\n",
    "https://towardsdatascience.com/review-fcn-semantic-segmentation-eb8c9b50d2d1\n",
    "https://www.upgrad.com/blog/basic-cnn-architecture/\n",
    "https://towardsdatascience.com/building-a-convolutional-neural-network-cnn-in-keras-329fbbadc5f5"
   ],
   "id": "451e033d63e0c8c"
  },
  {
   "metadata": {},
   "cell_type": "markdown",
   "source": "",
   "id": "9a3806706a8aa49a"
  },
  {
   "metadata": {},
   "cell_type": "markdown",
   "source": "",
   "id": "d45c251642befcaf"
  },
  {
   "metadata": {},
   "cell_type": "markdown",
   "source": "",
   "id": "d91b77e65490fefd"
  }
 ],
 "metadata": {
  "kernelspec": {
   "display_name": "Python 3",
   "language": "python",
   "name": "python3"
  },
  "language_info": {
   "codemirror_mode": {
    "name": "ipython",
    "version": 2
   },
   "file_extension": ".py",
   "mimetype": "text/x-python",
   "name": "python",
   "nbconvert_exporter": "python",
   "pygments_lexer": "ipython2",
   "version": "2.7.6"
  }
 },
 "nbformat": 4,
 "nbformat_minor": 5
}
